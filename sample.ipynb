{
 "cells": [
  {
   "cell_type": "markdown",
   "metadata": {},
   "source": [
    "商品期货期权 :http://gouthamanbalaraman.com/blog/value-options-commodity-futures-black-formula-quantlib-python.html\n",
    "Heston Model :http://gouthamanbalaraman.com/blog/valuing-european-option-heston-model-quantLib.html"
   ]
  },
  {
   "cell_type": "code",
   "execution_count": 35,
   "metadata": {
    "collapsed": false
   },
   "outputs": [],
   "source": [
    "import QuantLib as ql\n",
    "import matplotlib.pyplot as plt\n",
    "from nowquotes import download\n",
    "%matplotlib inline"
   ]
  },
  {
   "cell_type": "code",
   "execution_count": 54,
   "metadata": {
    "collapsed": true
   },
   "outputs": [],
   "source": [
    "maturity_date = ql.Date(28, 12, 2016) #交割日\n",
    "spot_price = 2.380  #现价\n",
    "strike_price = 1.908 # 行权价\n",
    "volatility = 0.2 #一年的历史波动率\n",
    "dividend_rate =  0.00001 #股息率\n",
    "option_type = ql.Option.Call  #Call Put\n",
    "\n",
    "risk_free_rate = 0.03  #无风险利率\n",
    "day_count = ql.Business252()  #一年的日期数 ActualActual()\n",
    "calendar = ql.China() #China\n",
    "\n",
    "calculation_date = ql.Date(12, 12, 2016)  #计算日\n",
    "ql.Settings.instance().evaluationDate = calculation_date"
   ]
  },
  {
   "cell_type": "code",
   "execution_count": 55,
   "metadata": {
    "collapsed": false
   },
   "outputs": [],
   "source": [
    "payoff = ql.PlainVanillaPayoff(option_type, strike_price)  #简单偿付 AmericanPayoffAtExpiry,AssetOrNothing,CashOrNothing数字偿付\n",
    "exercise = ql.EuropeanExercise(maturity_date)  #欧式行权 AmericanExercise\n",
    "european_option = ql.VanillaOption(payoff, exercise) #简单期权,DividendBarrierOption其它类型"
   ]
  },
  {
   "cell_type": "code",
   "execution_count": 56,
   "metadata": {
    "collapsed": true
   },
   "outputs": [],
   "source": [
    "spot_handle = ql.QuoteHandle(  #Handle<Quote>\n",
    "    ql.SimpleQuote(spot_price)\n",
    ")\n",
    "flat_ts = ql.YieldTermStructureHandle( #Handle<YieldTermStructure> 利率结构\n",
    "    ql.FlatForward(calculation_date, risk_free_rate, day_count)\n",
    ")  \n",
    "dividend_yield = ql.YieldTermStructureHandle(\n",
    "    ql.FlatForward(calculation_date, dividend_rate, day_count)\n",
    ")  ##FlatForward 平坦远期利率曲线\n",
    "flat_vol_ts = ql.BlackVolTermStructureHandle(\n",
    "    ql.BlackConstantVol(calculation_date, calendar, volatility, day_count)  \n",
    "    #常数Black波动率\n",
    ")  ##FlatForward 平坦远期利率曲线\n",
    "bsm_process = ql.BlackScholesMertonProcess(spot_handle, \n",
    "                                           dividend_yield, \n",
    "                                           flat_ts, \n",
    "                                           flat_vol_ts)\n",
    "#常参数Black Scholes Merton过程\n",
    "#   spot(float) - 标的初值\n",
    "#   riskFree(float) - 无风险利率\n",
    "#   dividend(float) - 红利\n",
    "#   vol(float) - 波动率"
   ]
  },
  {
   "cell_type": "code",
   "execution_count": 57,
   "metadata": {
    "collapsed": false
   },
   "outputs": [
    {
     "name": "stdout",
     "output_type": "stream",
     "text": [
      "The theoretical price is  0.474722637873\n"
     ]
    }
   ],
   "source": [
    "european_option.setPricingEngine(ql.AnalyticEuropeanEngine(bsm_process))\n",
    "bs_price = european_option.NPV()\n",
    "print \"The theoretical price is \", bs_price"
   ]
  },
  {
   "cell_type": "code",
   "execution_count": 58,
   "metadata": {
    "collapsed": false
   },
   "outputs": [
    {
     "name": "stdout",
     "output_type": "stream",
     "text": [
      "0.999999370489\n"
     ]
    }
   ],
   "source": [
    "print european_option.delta()"
   ]
  },
  {
   "cell_type": "code",
   "execution_count": 59,
   "metadata": {
    "collapsed": false
   },
   "outputs": [
    {
     "name": "stdout",
     "output_type": "stream",
     "text": [
      "0.458808654688\n"
     ]
    }
   ],
   "source": [
    "vol = european_option.impliedVolatility(0.4757,bsm_process)\n",
    "print vol"
   ]
  },
  {
   "cell_type": "code",
   "execution_count": 8,
   "metadata": {
    "collapsed": true
   },
   "outputs": [],
   "source": [
    "def binomial_price(bsm_process, steps):\n",
    "    binomial_engine = ql.BinomialVanillaEngine(bsm_process, \"crr\", steps)\n",
    "    european_option.setPricingEngine(binomial_engine)\n",
    "    return european_option.NPV()\n",
    "\n",
    "steps = range(2, 100, 1)\n",
    "prices = [binomial_price(bsm_process, step) for step in steps]"
   ]
  },
  {
   "cell_type": "code",
   "execution_count": 9,
   "metadata": {
    "collapsed": false
   },
   "outputs": [
    {
     "data": {
      "text/plain": [
       "<matplotlib.legend.Legend at 0x110384f50>"
      ]
     },
     "execution_count": 9,
     "metadata": {},
     "output_type": "execute_result"
    },
    {
     "data": {
      "image/png": "[encoded data removed]",
      "text/plain": [
       "<matplotlib.figure.Figure at 0x10db667d0>"
      ]
     },
     "metadata": {},
     "output_type": "display_data"
    }
   ],
   "source": [
    "plt.plot(steps, prices, label=\"Binomial Tree Price\", lw=2, alpha=0.6)\n",
    "plt.plot([0,100],[bs_price, bs_price], \"r--\", label=\"BSM Price\", lw=2, alpha=0.6)\n",
    "plt.xlabel(\"Steps\")\n",
    "plt.ylabel(\"Price\")\n",
    "plt.title(\"Binomial Tree Price For Varying Steps\")\n",
    "plt.legend()"
   ]
  },
  {
   "cell_type": "code",
   "execution_count": 30,
   "metadata": {
    "collapsed": false
   },
   "outputs": [],
   "source": [
    "# option data\n",
    "maturity_date = ql.Date(28, 12, 2016)\n",
    "spot_price = 2.413\n",
    "strike_price = 1.908\n",
    "volatility = 0.00001 # the historical vols for a year\n",
    "dividend_rate =  0.0\n",
    "option_type = ql.Option.Call\n",
    "\n",
    "risk_free_rate = 0.0\n",
    "day_count = ql.Actual365Fixed()\n",
    "calendar = ql.China()\n",
    "\n",
    "calculation_date = ql.Date(9, 12, 2016)\n",
    "ql.Settings.instance().evaluationDate = calculation_date\n"
   ]
  },
  {
   "cell_type": "code",
   "execution_count": 36,
   "metadata": {
    "collapsed": false
   },
   "outputs": [
    {
     "name": "stdout",
     "output_type": "stream",
     "text": [
      "The theoretical price is  0.505\n"
     ]
    }
   ],
   "source": [
    "\n",
    "# construct the European Option\n",
    "payoff = ql.PlainVanillaPayoff(option_type, strike_price)\n",
    "exercise = ql.EuropeanExercise(maturity_date)\n",
    "european_option = ql.VanillaOption(payoff, exercise)\n",
    "\n",
    "\n",
    "spot_handle = ql.QuoteHandle(\n",
    "    ql.SimpleQuote(spot_price)\n",
    ")\n",
    "flat_ts = ql.YieldTermStructureHandle(\n",
    "    ql.FlatForward(calculation_date, risk_free_rate, day_count)\n",
    ")\n",
    "dividend_yield = ql.YieldTermStructureHandle(\n",
    "    ql.FlatForward(calculation_date, dividend_rate, day_count)\n",
    ")\n",
    "flat_vol_ts = ql.BlackVolTermStructureHandle(\n",
    "    ql.BlackConstantVol(calculation_date, calendar, volatility, day_count)\n",
    ")\n",
    "bsm_process = ql.BlackScholesMertonProcess(spot_handle, \n",
    "                                           dividend_yield, \n",
    "                                           flat_ts, \n",
    "                                           flat_vol_ts)\n",
    "\n",
    "european_option.setPricingEngine(ql.AnalyticEuropeanEngine(bsm_process))\n",
    "bs_price = european_option.NPV()\n",
    "print \"The theoretical price is \", bs_price"
   ]
  },
  {
   "cell_type": "code",
   "execution_count": null,
   "metadata": {
    "collapsed": true
   },
   "outputs": [],
   "source": []
  }
 ],
 "metadata": {
  "kernelspec": {
   "display_name": "Python 2",
   "language": "python",
   "name": "python2"
  },
  "language_info": {
   "codemirror_mode": {
    "name": "ipython",
    "version": 2
   },
   "file_extension": ".py",
   "mimetype": "text/x-python",
   "name": "python",
   "nbconvert_exporter": "python",
   "pygments_lexer": "ipython2",
   "version": "2.7.11"
  }
 },
 "nbformat": 4,
 "nbformat_minor": 0
}
