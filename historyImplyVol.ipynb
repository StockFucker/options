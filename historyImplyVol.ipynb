{
 "cells": [
  {
   "cell_type": "code",
   "execution_count": 1,
   "metadata": {
    "collapsed": false
   },
   "outputs": [
    {
     "name": "stderr",
     "output_type": "stream",
     "text": [
      "/usr/local/lib/python2.7/site-packages/matplotlib/font_manager.py:273: UserWarning: Matplotlib is building the font cache using fc-list. This may take a moment.\n",
      "  warnings.warn('Matplotlib is building the font cache using fc-list. This may take a moment.')\n"
     ]
    }
   ],
   "source": [
    "import QuantLib as ql\n",
    "import matplotlib.pyplot as plt\n",
    "import datetime\n",
    "import pandas as pd\n",
    "import math\n",
    "from nowquotes import download\n",
    "from wmDownloader import getOptionsInfo,getHistoryQuotesInfo,getIndexQuotesInfo\n",
    "\n",
    "%matplotlib inline"
   ]
  },
  {
   "cell_type": "code",
   "execution_count": 2,
   "metadata": {
    "collapsed": true
   },
   "outputs": [],
   "source": [
    "risk_free_rate = 0.03 #无风险利率 优化点1  0.005 利率差 对应期权0.1%价格波动，变化不大\n",
    "dividend_rate =  0\n",
    "day_count = ql.Actual365Fixed()  #一年的日期数 优化点2  "
   ]
  },
  {
   "cell_type": "code",
   "execution_count": 3,
   "metadata": {
    "collapsed": false
   },
   "outputs": [],
   "source": [
    "def calculateImpliedVolatility(option_price,spot_price,strike_price,calculation_date,maturity_date,option_type):\n",
    "    volatility = 0\n",
    "    calendar = ql.China() \n",
    "    payoff = ql.PlainVanillaPayoff(option_type, strike_price)  \n",
    "    exercise = ql.EuropeanExercise(maturity_date) \n",
    "    european_option = ql.VanillaOption(payoff, exercise) \n",
    "    spot_handle = ql.QuoteHandle(  \n",
    "        ql.SimpleQuote(spot_price)\n",
    "    )\n",
    "    flat_ts = ql.YieldTermStructureHandle( \n",
    "        ql.FlatForward(calculation_date, risk_free_rate, day_count)\n",
    "    )  \n",
    "    dividend_yield = ql.YieldTermStructureHandle(\n",
    "        ql.FlatForward(calculation_date, dividend_rate, day_count)\n",
    "    ) \n",
    "    flat_vol_ts = ql.BlackVolTermStructureHandle(\n",
    "        ql.BlackConstantVol(calculation_date, calendar, volatility, day_count)  \n",
    "    )\n",
    "    bsm_process = ql.BlackScholesMertonProcess(spot_handle, \n",
    "                                               dividend_yield, \n",
    "                                               flat_ts, \n",
    "                                               flat_vol_ts)\n",
    "    try:\n",
    "        vol = european_option.impliedVolatility(option_price,bsm_process)\n",
    "        return vol\n",
    "    except Exception,e:\n",
    "#         print e\n",
    "        return float('nan')"
   ]
  },
  {
   "cell_type": "code",
   "execution_count": 4,
   "metadata": {
    "collapsed": false
   },
   "outputs": [
    {
     "data": {
      "text/html": [
       "<div>\n",
       "<table border=\"1\" class=\"dataframe\">\n",
       "  <thead>\n",
       "    <tr style=\"text-align: right;\">\n",
       "      <th></th>\n",
       "      <th>contMultNum</th>\n",
       "      <th>contractStatus</th>\n",
       "      <th>contractType</th>\n",
       "      <th>currencyCD</th>\n",
       "      <th>deliDate</th>\n",
       "      <th>delistDate</th>\n",
       "      <th>exchangeCD</th>\n",
       "      <th>exerDate</th>\n",
       "      <th>expDate</th>\n",
       "      <th>expMonth</th>\n",
       "      <th>...</th>\n",
       "      <th>listDate</th>\n",
       "      <th>secID</th>\n",
       "      <th>secShortName</th>\n",
       "      <th>strikePrice</th>\n",
       "      <th>tickerSymbol</th>\n",
       "      <th>varExchangeCD</th>\n",
       "      <th>varSecID</th>\n",
       "      <th>varShortName</th>\n",
       "      <th>varTicker</th>\n",
       "      <th>varType</th>\n",
       "    </tr>\n",
       "    <tr>\n",
       "      <th>optID</th>\n",
       "      <th></th>\n",
       "      <th></th>\n",
       "      <th></th>\n",
       "      <th></th>\n",
       "      <th></th>\n",
       "      <th></th>\n",
       "      <th></th>\n",
       "      <th></th>\n",
       "      <th></th>\n",
       "      <th></th>\n",
       "      <th></th>\n",
       "      <th></th>\n",
       "      <th></th>\n",
       "      <th></th>\n",
       "      <th></th>\n",
       "      <th></th>\n",
       "      <th></th>\n",
       "      <th></th>\n",
       "      <th></th>\n",
       "      <th></th>\n",
       "      <th></th>\n",
       "    </tr>\n",
       "  </thead>\n",
       "  <tbody>\n",
       "    <tr>\n",
       "      <th>10000001</th>\n",
       "      <td>10000</td>\n",
       "      <td>DE</td>\n",
       "      <td>CO</td>\n",
       "      <td>CNY</td>\n",
       "      <td>2015-03-26</td>\n",
       "      <td>2015-03-25</td>\n",
       "      <td>XSHG</td>\n",
       "      <td>2015-03-25</td>\n",
       "      <td>2015-03-25</td>\n",
       "      <td>3</td>\n",
       "      <td>...</td>\n",
       "      <td>2015-02-09</td>\n",
       "      <td>510050C1503M02200.XSHG</td>\n",
       "      <td>50ETF购3月2200</td>\n",
       "      <td>2.20</td>\n",
       "      <td>510050C1503M02200</td>\n",
       "      <td>XSHG</td>\n",
       "      <td>510050.XSHG</td>\n",
       "      <td>华夏上证50ETF</td>\n",
       "      <td>510050</td>\n",
       "      <td>F</td>\n",
       "    </tr>\n",
       "    <tr>\n",
       "      <th>10000002</th>\n",
       "      <td>10000</td>\n",
       "      <td>DE</td>\n",
       "      <td>CO</td>\n",
       "      <td>CNY</td>\n",
       "      <td>2015-03-26</td>\n",
       "      <td>2015-03-25</td>\n",
       "      <td>XSHG</td>\n",
       "      <td>2015-03-25</td>\n",
       "      <td>2015-03-25</td>\n",
       "      <td>3</td>\n",
       "      <td>...</td>\n",
       "      <td>2015-02-09</td>\n",
       "      <td>510050C1503M02250.XSHG</td>\n",
       "      <td>50ETF购3月2250</td>\n",
       "      <td>2.25</td>\n",
       "      <td>510050C1503M02250</td>\n",
       "      <td>XSHG</td>\n",
       "      <td>510050.XSHG</td>\n",
       "      <td>华夏上证50ETF</td>\n",
       "      <td>510050</td>\n",
       "      <td>F</td>\n",
       "    </tr>\n",
       "    <tr>\n",
       "      <th>10000003</th>\n",
       "      <td>10000</td>\n",
       "      <td>DE</td>\n",
       "      <td>CO</td>\n",
       "      <td>CNY</td>\n",
       "      <td>2015-03-26</td>\n",
       "      <td>2015-03-25</td>\n",
       "      <td>XSHG</td>\n",
       "      <td>2015-03-25</td>\n",
       "      <td>2015-03-25</td>\n",
       "      <td>3</td>\n",
       "      <td>...</td>\n",
       "      <td>2015-02-09</td>\n",
       "      <td>510050C1503M02300.XSHG</td>\n",
       "      <td>50ETF购3月2300</td>\n",
       "      <td>2.30</td>\n",
       "      <td>510050C1503M02300</td>\n",
       "      <td>XSHG</td>\n",
       "      <td>510050.XSHG</td>\n",
       "      <td>华夏上证50ETF</td>\n",
       "      <td>510050</td>\n",
       "      <td>F</td>\n",
       "    </tr>\n",
       "  </tbody>\n",
       "</table>\n",
       "<p>3 rows × 22 columns</p>\n",
       "</div>"
      ],
      "text/plain": [
       "          contMultNum contractStatus contractType currencyCD    deliDate  \\\n",
       "optID                                                                      \n",
       "10000001        10000             DE           CO        CNY  2015-03-26   \n",
       "10000002        10000             DE           CO        CNY  2015-03-26   \n",
       "10000003        10000             DE           CO        CNY  2015-03-26   \n",
       "\n",
       "          delistDate exchangeCD    exerDate     expDate  expMonth   ...    \\\n",
       "optID                                                               ...     \n",
       "10000001  2015-03-25       XSHG  2015-03-25  2015-03-25         3   ...     \n",
       "10000002  2015-03-25       XSHG  2015-03-25  2015-03-25         3   ...     \n",
       "10000003  2015-03-25       XSHG  2015-03-25  2015-03-25         3   ...     \n",
       "\n",
       "            listDate                   secID  secShortName strikePrice  \\\n",
       "optID                                                                    \n",
       "10000001  2015-02-09  510050C1503M02200.XSHG  50ETF购3月2200        2.20   \n",
       "10000002  2015-02-09  510050C1503M02250.XSHG  50ETF购3月2250        2.25   \n",
       "10000003  2015-02-09  510050C1503M02300.XSHG  50ETF购3月2300        2.30   \n",
       "\n",
       "               tickerSymbol  varExchangeCD     varSecID varShortName  \\\n",
       "optID                                                                  \n",
       "10000001  510050C1503M02200           XSHG  510050.XSHG    华夏上证50ETF   \n",
       "10000002  510050C1503M02250           XSHG  510050.XSHG    华夏上证50ETF   \n",
       "10000003  510050C1503M02300           XSHG  510050.XSHG    华夏上证50ETF   \n",
       "\n",
       "         varTicker varType  \n",
       "optID                       \n",
       "10000001    510050       F  \n",
       "10000002    510050       F  \n",
       "10000003    510050       F  \n",
       "\n",
       "[3 rows x 22 columns]"
      ]
     },
     "execution_count": 4,
     "metadata": {},
     "output_type": "execute_result"
    }
   ],
   "source": [
    "options_info = getOptionsInfo(True)\n",
    "options_info.head(3)"
   ]
  },
  {
   "cell_type": "code",
   "execution_count": 5,
   "metadata": {
    "collapsed": false
   },
   "outputs": [
    {
     "data": {
      "text/html": [
       "<div>\n",
       "<table border=\"1\" class=\"dataframe\">\n",
       "  <thead>\n",
       "    <tr style=\"text-align: right;\">\n",
       "      <th></th>\n",
       "      <th>CHG</th>\n",
       "      <th>CHGPct</th>\n",
       "      <th>accumAdjFactor</th>\n",
       "      <th>circulationShares</th>\n",
       "      <th>closePrice</th>\n",
       "      <th>discount</th>\n",
       "      <th>discountRatio</th>\n",
       "      <th>exchangeCD</th>\n",
       "      <th>highestPrice</th>\n",
       "      <th>lowestPrice</th>\n",
       "      <th>openPrice</th>\n",
       "      <th>preClosePrice</th>\n",
       "      <th>secID</th>\n",
       "      <th>secShortName</th>\n",
       "      <th>ticker</th>\n",
       "      <th>turnoverValue</th>\n",
       "      <th>turnoverVol</th>\n",
       "    </tr>\n",
       "    <tr>\n",
       "      <th>tradeDate</th>\n",
       "      <th></th>\n",
       "      <th></th>\n",
       "      <th></th>\n",
       "      <th></th>\n",
       "      <th></th>\n",
       "      <th></th>\n",
       "      <th></th>\n",
       "      <th></th>\n",
       "      <th></th>\n",
       "      <th></th>\n",
       "      <th></th>\n",
       "      <th></th>\n",
       "      <th></th>\n",
       "      <th></th>\n",
       "      <th></th>\n",
       "      <th></th>\n",
       "      <th></th>\n",
       "    </tr>\n",
       "  </thead>\n",
       "  <tbody>\n",
       "    <tr>\n",
       "      <th>2005-02-23</th>\n",
       "      <td>-0.011</td>\n",
       "      <td>-0.0124</td>\n",
       "      <td>1.0</td>\n",
       "      <td>5.940000e+09</td>\n",
       "      <td>0.876</td>\n",
       "      <td>0.002</td>\n",
       "      <td>0.002278</td>\n",
       "      <td>XSHG</td>\n",
       "      <td>0.882</td>\n",
       "      <td>0.866</td>\n",
       "      <td>0.881</td>\n",
       "      <td>0.887</td>\n",
       "      <td>510050.XSHG</td>\n",
       "      <td>华夏上证50ETF</td>\n",
       "      <td>510050</td>\n",
       "      <td>1111793167</td>\n",
       "      <td>1269742542</td>\n",
       "    </tr>\n",
       "    <tr>\n",
       "      <th>2005-02-24</th>\n",
       "      <td>0.000</td>\n",
       "      <td>0.0000</td>\n",
       "      <td>1.0</td>\n",
       "      <td>5.768000e+09</td>\n",
       "      <td>0.876</td>\n",
       "      <td>0.001</td>\n",
       "      <td>0.001140</td>\n",
       "      <td>XSHG</td>\n",
       "      <td>0.876</td>\n",
       "      <td>0.868</td>\n",
       "      <td>0.876</td>\n",
       "      <td>0.876</td>\n",
       "      <td>510050.XSHG</td>\n",
       "      <td>华夏上证50ETF</td>\n",
       "      <td>510050</td>\n",
       "      <td>394141216</td>\n",
       "      <td>451614223</td>\n",
       "    </tr>\n",
       "    <tr>\n",
       "      <th>2005-02-25</th>\n",
       "      <td>0.004</td>\n",
       "      <td>0.0046</td>\n",
       "      <td>1.0</td>\n",
       "      <td>5.509000e+09</td>\n",
       "      <td>0.880</td>\n",
       "      <td>-0.002</td>\n",
       "      <td>-0.002278</td>\n",
       "      <td>XSHG</td>\n",
       "      <td>0.887</td>\n",
       "      <td>0.875</td>\n",
       "      <td>0.877</td>\n",
       "      <td>0.876</td>\n",
       "      <td>510050.XSHG</td>\n",
       "      <td>华夏上证50ETF</td>\n",
       "      <td>510050</td>\n",
       "      <td>446597972</td>\n",
       "      <td>506460695</td>\n",
       "    </tr>\n",
       "  </tbody>\n",
       "</table>\n",
       "</div>"
      ],
      "text/plain": [
       "              CHG  CHGPct  accumAdjFactor  circulationShares  closePrice  \\\n",
       "tradeDate                                                                  \n",
       "2005-02-23 -0.011 -0.0124             1.0       5.940000e+09       0.876   \n",
       "2005-02-24  0.000  0.0000             1.0       5.768000e+09       0.876   \n",
       "2005-02-25  0.004  0.0046             1.0       5.509000e+09       0.880   \n",
       "\n",
       "            discount  discountRatio exchangeCD  highestPrice  lowestPrice  \\\n",
       "tradeDate                                                                   \n",
       "2005-02-23     0.002       0.002278       XSHG         0.882        0.866   \n",
       "2005-02-24     0.001       0.001140       XSHG         0.876        0.868   \n",
       "2005-02-25    -0.002      -0.002278       XSHG         0.887        0.875   \n",
       "\n",
       "            openPrice  preClosePrice        secID secShortName  ticker  \\\n",
       "tradeDate                                                                \n",
       "2005-02-23      0.881          0.887  510050.XSHG    华夏上证50ETF  510050   \n",
       "2005-02-24      0.876          0.876  510050.XSHG    华夏上证50ETF  510050   \n",
       "2005-02-25      0.877          0.876  510050.XSHG    华夏上证50ETF  510050   \n",
       "\n",
       "            turnoverValue  turnoverVol  \n",
       "tradeDate                               \n",
       "2005-02-23     1111793167   1269742542  \n",
       "2005-02-24      394141216    451614223  \n",
       "2005-02-25      446597972    506460695  "
      ]
     },
     "execution_count": 5,
     "metadata": {},
     "output_type": "execute_result"
    }
   ],
   "source": [
    "index_quotes_info = getIndexQuotesInfo(True)\n",
    "index_quotes_info.head(3)"
   ]
  },
  {
   "cell_type": "code",
   "execution_count": 6,
   "metadata": {
    "collapsed": false
   },
   "outputs": [],
   "source": [
    "def getVolOfDay(day):\n",
    "    daystr = day.strftime(\"%Y%m%d\")\n",
    "    try:\n",
    "        calculation_date = ql.Date(day.day, day.month, day.year) #计算日\n",
    "        ql.Settings.instance().evaluationDate = calculation_date\n",
    "        df = getHistoryQuotesInfo(daystr,read_cache=True)\n",
    "        index_price = index_quotes_info[\"closePrice\"][day.strftime(\"%Y-%m-%d\")]\n",
    "        delta_se = pd.Series()\n",
    "        vol_se = pd.Series()\n",
    "        for i in range(-20,20):\n",
    "            spot_price = index_price + float(i)/1000\n",
    "            call_se = pd.Series()\n",
    "            put_se = pd.Series()\n",
    "            for index,row in df.iterrows():\n",
    "                exer_date = options_info[\"exerDate\"][index]\n",
    "                exer_datetime = datetime.datetime.strptime(exer_date,\"%Y-%m-%d\")\n",
    "                delta = exer_datetime - day\n",
    "                if delta.days < 31:\n",
    "                    maturity_date = ql.Date(exer_datetime.day, exer_datetime.month, exer_datetime.year) #交割日\n",
    "                    contractType = options_info[\"contractType\"][index] \n",
    "                    option_type = (ql.Option.Call if contractType == \"CO\" else ql.Option.Put)\n",
    "                    strike_price = options_info[\"strikePrice\"][index] \n",
    "                    price = row[\"closePrice\"]\n",
    "                    vol = calculateImpliedVolatility(price,spot_price,strike_price,calculation_date,maturity_date,option_type)\n",
    "                    if math.isnan(vol):\n",
    "    #                     print spot_price,index_price,calculation_date,maturity_date,contractType,strike_price,price\n",
    "                        continue\n",
    "                    if contractType == \"CO\":\n",
    "                        call_se[strike_price] = vol\n",
    "                    else:\n",
    "                        put_se[strike_price] = vol\n",
    "            if len(call_se) == 0:\n",
    "                continue\n",
    "            call_se = call_se.sort_index(inplace=False)\n",
    "            put_se = put_se.sort_index(inplace=False)\n",
    "            delta = (call_se - put_se).abs()\n",
    "            min_delta = delta.min()\n",
    "            delta_se[str(spot_price)] = min_delta\n",
    "            vol_se[str(spot_price)] = call_se[delta.idxmin()]\n",
    "    #     print delta_se\n",
    "#         print index_price,calculation_date,delta_se.idxmin()\n",
    "#         delta_se.plot()\n",
    "        return delta_se.idxmin(),vol_se[delta_se.idxmin()]\n",
    "    except Exception,e:\n",
    "#         print daystr\n",
    "        return float('nan'),float('nan')"
   ]
  },
  {
   "cell_type": "code",
   "execution_count": 7,
   "metadata": {
    "collapsed": false
   },
   "outputs": [
    {
     "data": {
      "text/plain": [
       "2016-12-23 12:27:11.104911    0.138892\n",
       "2016-12-22 12:27:11.104911    0.143489\n",
       "2016-12-21 12:27:11.104911    0.204756\n",
       "dtype: float64"
      ]
     },
     "execution_count": 7,
     "metadata": {},
     "output_type": "execute_result"
    }
   ],
   "source": [
    "today = datetime.datetime.now()\n",
    "vol_se = pd.Series()\n",
    "spot_price_se = pd.Series()\n",
    "for i in range(0,300):\n",
    "    day = today - datetime.timedelta(days = i)\n",
    "    spot_price,vol = getVolOfDay(day)\n",
    "    if math.isnan(vol):\n",
    "        continue\n",
    "    spot_price_se[day] = spot_price\n",
    "    vol_se[day] = vol\n",
    "vol_se.head(3)"
   ]
  },
  {
   "cell_type": "code",
   "execution_count": 8,
   "metadata": {
    "collapsed": false
   },
   "outputs": [
    {
     "data": {
      "text/plain": [
       "<matplotlib.axes._subplots.AxesSubplot at 0x102597810>"
      ]
     },
     "execution_count": 8,
     "metadata": {},
     "output_type": "execute_result"
    },
    {
     "data": {
      "image/png": "[encoded data removed]",
      "text/plain": [
       "<matplotlib.figure.Figure at 0x1025970d0>"
      ]
     },
     "metadata": {},
     "output_type": "display_data"
    }
   ],
   "source": [
    "vol_se.plot(figsize=(16,8))"
   ]
  },
  {
   "cell_type": "code",
   "execution_count": 9,
   "metadata": {
    "collapsed": false
   },
   "outputs": [
    {
     "name": "stdout",
     "output_type": "stream",
     "text": [
      "Axes(0.125,0.2;0.775x0.7)\n"
     ]
    },
    {
     "data": {
      "image/png": "[encoded data removed]",
      "text/plain": [
       "<matplotlib.figure.Figure at 0x10ae647d0>"
      ]
     },
     "metadata": {},
     "output_type": "display_data"
    }
   ],
   "source": [
    "spot_price_se = spot_price_se.astype(float)\n",
    "print spot_price_se.plot()"
   ]
  },
  {
   "cell_type": "code",
   "execution_count": null,
   "metadata": {
    "collapsed": true
   },
   "outputs": [],
   "source": []
  },
  {
   "cell_type": "code",
   "execution_count": 10,
   "metadata": {
    "collapsed": false
   },
   "outputs": [],
   "source": [
    "spot_price_se.to_csv(\"spot_price.csv\")\n",
    "vol_se.to_csv(\"vol.csv\")"
   ]
  },
  {
   "cell_type": "code",
   "execution_count": 11,
   "metadata": {
    "collapsed": false
   },
   "outputs": [
    {
     "name": "stdout",
     "output_type": "stream",
     "text": [
      "            spot_price  etf\n",
      "2016-12-23       2.276  NaN\n",
      "2016-12-22       2.291  NaN\n",
      "2016-12-21       2.298  NaN\n"
     ]
    }
   ],
   "source": [
    "df = pd.DataFrame()\n",
    "df[\"spot_price\"] = spot_price_se\n",
    "df.index = pd.DatetimeIndex(df.index).normalize()\n",
    "df[\"etf\"] = index_quotes_info[\"closePrice\"]\n",
    "print df.head(3)"
   ]
  },
  {
   "cell_type": "code",
   "execution_count": null,
   "metadata": {
    "collapsed": true
   },
   "outputs": [],
   "source": []
  }
 ],
 "metadata": {
  "kernelspec": {
   "display_name": "Python 2",
   "language": "python",
   "name": "python2"
  },
  "language_info": {
   "codemirror_mode": {
    "name": "ipython",
    "version": 2
   },
   "file_extension": ".py",
   "mimetype": "text/x-python",
   "name": "python",
   "nbconvert_exporter": "python",
   "pygments_lexer": "ipython2",
   "version": "2.7.11"
  }
 },
 "nbformat": 4,
 "nbformat_minor": 0
}
